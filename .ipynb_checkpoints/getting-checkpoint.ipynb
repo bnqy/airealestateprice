{
 "cells": [
  {
   "cell_type": "code",
   "execution_count": 3,
   "id": "c6e998b7",
   "metadata": {},
   "outputs": [],
   "source": [
    "import pandas as pd\n",
    "import csv\n",
    "import requests\n",
    "from bs4 import BeautifulSoup\n",
    "import re"
   ]
  },
  {
   "cell_type": "code",
   "execution_count": 6,
   "id": "86ebd392",
   "metadata": {},
   "outputs": [
    {
     "name": "stdout",
     "output_type": "stream",
     "text": [
      "https://www.house.kg/details/806864466275830e798e2-85744842\n",
      "https://www.house.kg/details/56026264105d0d676e24-30539986\n",
      "https://www.house.kg/details/41282756625302ac61645-50053998\n",
      "https://www.house.kg/details/9276776662b8ab5743942-04294525\n",
      "https://www.house.kg/details/3181685662fa1cb21ee27-74752769\n",
      "https://www.house.kg/details/6196310662e393d0dc357-41687789\n",
      "https://www.house.kg/details/2813351662687dea79268-38823036\n",
      "https://www.house.kg/details/95573916638ba1019be33-04874781\n",
      "https://www.house.kg/details/788971266375a133debf7-48540016\n",
      "https://www.house.kg/details/7882325661bf9c3a0de10-06046349\n",
      "https://www.house.kg/details/140217465f85cfd9ae502-97967463\n",
      "https://www.house.kg/details/162056660a1c6693d792-91241011\n",
      "https://www.house.kg/details/8269278637b284f1c8032-34874807\n",
      "https://www.house.kg/details/6543559663667e01349b6-52652626\n",
      "https://www.house.kg/details/1292045650dad43e17fa5-36309350\n",
      "https://www.house.kg/details/2161979661e7054e65c95-50355428\n",
      "https://www.house.kg/details/1968146663878fd8fe584-30454098\n",
      "https://www.house.kg/details/2713862658ec0575230c8-21555986\n",
      "https://www.house.kg/details/696572651eac369ce812-69581149\n",
      "https://www.house.kg/details/1077831660a19f5906da4-34047168\n",
      "https://www.house.kg/details/62046946635aeec46d808-17908958\n",
      "https://www.house.kg/details/993911865fd2cb33b4a13-51918494\n",
      "https://www.house.kg/details/16604046623b8f2d92d04-56756989\n",
      "https://www.house.kg/details/477013966124abcae97d4-97060182\n",
      "https://www.house.kg/details/812607966155d40e895b8-04988336\n",
      "https://www.house.kg/details/3664167661d5e5911c421-07112471\n",
      "https://www.house.kg/details/4042230662291892c7961-72650103\n",
      "https://www.house.kg/details/73650216637ac55c84090-49750011\n",
      "https://www.house.kg/details/414342565e408124511e9-55720302\n",
      "https://www.house.kg/details/199739965dc2dbe4df4e1-75715816\n"
     ]
    }
   ],
   "source": [
    "for num in range(1, 4):\n",
    "    url = f'https://www.house.kg/kupit-kvartiru?page={num}' \n",
    "    response = requests.get(url)\n",
    "    soup = BeautifulSoup(response.text, 'html.parser')\n",
    "    Phones = soup.find_all('div', class_='main-wrapper')\n",
    "    for each in Phones:\n",
    "        link = each.find('div', class_='left-image').a['href'] \n",
    "        link = f'https://www.house.kg{link}'\n",
    "        print(link)"
   ]
  },
  {
   "cell_type": "code",
   "execution_count": null,
   "id": "2d586850",
   "metadata": {},
   "outputs": [],
   "source": []
  }
 ],
 "metadata": {
  "kernelspec": {
   "display_name": "Python 3 (ipykernel)",
   "language": "python",
   "name": "python3"
  },
  "language_info": {
   "codemirror_mode": {
    "name": "ipython",
    "version": 3
   },
   "file_extension": ".py",
   "mimetype": "text/x-python",
   "name": "python",
   "nbconvert_exporter": "python",
   "pygments_lexer": "ipython3",
   "version": "3.11.5"
  }
 },
 "nbformat": 4,
 "nbformat_minor": 5
}
