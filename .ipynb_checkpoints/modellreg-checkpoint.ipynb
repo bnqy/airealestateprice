{
 "cells": [
  {
   "cell_type": "code",
   "execution_count": 1,
   "id": "97f27f6c",
   "metadata": {},
   "outputs": [],
   "source": [
    "import pandas as pd \n",
    "import numpy as np \n",
    "from matplotlib import pyplot as plt \n",
    "import seaborn as sns \n",
    "%matplotlib inline"
   ]
  },
  {
   "cell_type": "code",
   "execution_count": 128,
   "id": "1aa4fa20",
   "metadata": {},
   "outputs": [],
   "source": [
    "df = pd.read_csv('sample_data/new_data4.csv')\n"
   ]
  },
  {
   "cell_type": "code",
   "execution_count": 129,
   "id": "c88e29b4",
   "metadata": {},
   "outputs": [],
   "source": [
    "df.columns = df.columns.str.lower().str.replace(' ', '_') \n",
    "string_columns = list(df.dtypes[df.dtypes == 'object'].index) \n",
    "for col in string_columns: \n",
    "    df[col] = df[col].str.lower().str.replace(' ', '_') "
   ]
  },
  {
   "cell_type": "code",
   "execution_count": 130,
   "id": "66bdc6e4",
   "metadata": {},
   "outputs": [],
   "source": [
    "# plt.figure(figsize=(6, 4))\n",
    "\n",
    "# sns.histplot(df['ценна_доллар'], bins=40, color='black', alpha=1)\n",
    "# plt.ylabel('Frequency')\n",
    "# plt.xlabel('Price')\n",
    "# plt.title('Distribution of prices')\n",
    "\n",
    "# plt.show()"
   ]
  },
  {
   "cell_type": "code",
   "execution_count": 131,
   "id": "503bf6c0",
   "metadata": {},
   "outputs": [],
   "source": [
    "# log_price = np.log1p(df['ценна_доллар'])\n",
    "\n",
    "# plt.figure(figsize=(6, 4))\n",
    "\n",
    "# sns.histplot(log_price, bins=40, color='black', alpha=1)\n",
    "# plt.ylabel('Frequency')\n",
    "# plt.xlabel('Log(Price + 1)')\n",
    "# plt.title('Distribution of prices after log tranformation')\n",
    "\n",
    "# plt.show()"
   ]
  },
  {
   "cell_type": "code",
   "execution_count": 6,
   "id": "d1ca9875",
   "metadata": {},
   "outputs": [],
   "source": [
    "rows_to_drop = df[df['ценна_доллар']<10000].index\n",
    "df.drop(rows_to_drop, inplace=True)"
   ]
  },
  {
   "cell_type": "code",
   "execution_count": 9,
   "id": "b5e7ee4a",
   "metadata": {},
   "outputs": [],
   "source": [
    "# plt.figure(figsize=(6, 4))\n",
    "\n",
    "# sns.histplot(df['ценна_доллар'], bins=40, color='black', alpha=1)\n",
    "# plt.ylabel('Frequency')\n",
    "# plt.xlabel('Price')\n",
    "# plt.title('Distribution of prices')\n",
    "\n",
    "# plt.show()"
   ]
  },
  {
   "cell_type": "code",
   "execution_count": 10,
   "id": "08505e2a",
   "metadata": {},
   "outputs": [],
   "source": [
    "# log_price = np.log1p(df['ценна_доллар'])\n",
    "\n",
    "# plt.figure(figsize=(6, 4))\n",
    "\n",
    "# sns.histplot(log_price, bins=40, color='black', alpha=1)\n",
    "# plt.ylabel('Frequency')\n",
    "# plt.xlabel('Log(Price + 1)')\n",
    "# plt.title('Distribution of prices after log tranformation')\n",
    "\n",
    "# plt.show()"
   ]
  },
  {
   "cell_type": "code",
   "execution_count": 11,
   "id": "e2c9ff20",
   "metadata": {},
   "outputs": [],
   "source": [
    "rows_to_drop = df[df['ценна_доллар']<12000].index\n",
    "df.drop(rows_to_drop, inplace=True)"
   ]
  },
  {
   "cell_type": "code",
   "execution_count": 14,
   "id": "5f7252d7",
   "metadata": {},
   "outputs": [],
   "source": [
    "# log_price = np.log1p(df['ценна_доллар'])\n",
    "\n",
    "# plt.figure(figsize=(6, 4))\n",
    "\n",
    "# sns.histplot(log_price, bins=40, color='black', alpha=1)\n",
    "# plt.ylabel('Frequency')\n",
    "# plt.xlabel('Log(Price + 1)')\n",
    "# plt.title('Distribution of prices after log tranformation')\n",
    "\n",
    "# plt.show()"
   ]
  },
  {
   "cell_type": "code",
   "execution_count": 15,
   "id": "f9ef4046",
   "metadata": {},
   "outputs": [],
   "source": [
    "# sns.distplot(log_price, kde=True)"
   ]
  },
  {
   "cell_type": "code",
   "execution_count": null,
   "id": "da79d518",
   "metadata": {},
   "outputs": [],
   "source": []
  },
  {
   "cell_type": "code",
   "execution_count": 17,
   "id": "fd6cdab3",
   "metadata": {},
   "outputs": [],
   "source": [
    "np.random.seed(2)\n",
    "\n",
    "n = len(df)\n",
    "\n",
    "n_val = int(0.2 * n)\n",
    "n_test = int(0.2 * n)\n",
    "n_train = n - (n_val + n_test)\n",
    "\n",
    "idx = np.arange(n)\n",
    "np.random.shuffle(idx)\n",
    "\n",
    "df_shuffled = df.iloc[idx]\n",
    "\n",
    "df_train = df_shuffled.iloc[:n_train].copy()\n",
    "df_val = df_shuffled.iloc[n_train:n_train+n_val].copy()\n",
    "df_test = df_shuffled.iloc[n_train+n_val:].copy()"
   ]
  },
  {
   "cell_type": "code",
   "execution_count": 18,
   "id": "282a0b09",
   "metadata": {},
   "outputs": [],
   "source": [
    "y_train_orig = df_train['ценна_доллар'].values\n",
    "y_val_orig = df_val['ценна_доллар'].values\n",
    "y_test_orig = df_test['ценна_доллар'].values\n",
    "\n",
    "y_train = np.log1p(df_train['ценна_доллар'].values)\n",
    "y_val = np.log1p(df_val['ценна_доллар'].values)\n",
    "y_test = np.log1p(df_test['ценна_доллар'].values)\n",
    "\n",
    "del df_train['ценна_доллар']\n",
    "del df_val['ценна_доллар']\n",
    "del df_test['ценна_доллар']"
   ]
  },
  {
   "cell_type": "code",
   "execution_count": 19,
   "id": "ca8687f9",
   "metadata": {},
   "outputs": [],
   "source": [
    "def train_linear_regression(X, y):\n",
    "    ones = np.ones(X.shape[0]) \n",
    "    X = np.column_stack([ones, X]) \n",
    "\n",
    "    XTX = X.T.dot(X) \n",
    "    XTX_inv = np.linalg.inv(XTX) \n",
    "    w = XTX_inv.dot(X.T).dot(y) \n",
    "    \n",
    "    \n",
    "    return w[0], w[1:]  "
   ]
  },
  {
   "cell_type": "code",
   "execution_count": null,
   "id": "325a7d1c",
   "metadata": {},
   "outputs": [],
   "source": []
  },
  {
   "cell_type": "code",
   "execution_count": null,
   "id": "fe44a316",
   "metadata": {},
   "outputs": [],
   "source": []
  },
  {
   "cell_type": "code",
   "execution_count": 20,
   "id": "ad864de8",
   "metadata": {},
   "outputs": [],
   "source": [
    "base = ['комнаты', 'площадь', 'отопление', 'высота_потолков', 'красная_книга']"
   ]
  },
  {
   "cell_type": "code",
   "execution_count": 21,
   "id": "b59231e8",
   "metadata": {},
   "outputs": [],
   "source": [
    "def prepare_X(df):\n",
    "    df_num = df[base]\n",
    "    df_num = df_num.fillna(0)\n",
    "    X = df_num.values # convert to array\n",
    "    return X"
   ]
  },
  {
   "cell_type": "code",
   "execution_count": 22,
   "id": "a124e2ae",
   "metadata": {},
   "outputs": [],
   "source": [
    "X_train = prepare_X(df_train)\n",
    "w_0, w = train_linear_regression(X_train, y_train)"
   ]
  },
  {
   "cell_type": "code",
   "execution_count": 23,
   "id": "0b14ed31",
   "metadata": {},
   "outputs": [],
   "source": [
    "y_pred = w_0 + X_train.dot(w)"
   ]
  },
  {
   "cell_type": "code",
   "execution_count": 24,
   "id": "e00b3036",
   "metadata": {},
   "outputs": [
    {
     "data": {
      "image/png": "[encoded data removed]",
      "text/plain": [
       "<Figure size 600x400 with 1 Axes>"
      ]
     },
     "metadata": {},
     "output_type": "display_data"
    }
   ],
   "source": [
    "plt.figure(figsize=(6, 4))\n",
    "\n",
    "sns.histplot(y_train, label='target', color='#222222', alpha=0.6, bins=40)\n",
    "sns.histplot(y_pred, label='prediction', color='#aaaaaa', alpha=0.8, bins=40)\n",
    "\n",
    "plt.legend()\n",
    "\n",
    "plt.ylabel('Frequency')\n",
    "plt.xlabel('Log(Price + 1)')\n",
    "plt.title('Predictions vs actual distribution')\n",
    "\n",
    "plt.show()"
   ]
  },
  {
   "cell_type": "code",
   "execution_count": 25,
   "id": "978a6028",
   "metadata": {},
   "outputs": [
    {
     "data": {
      "text/plain": [
       "0.24400378535533615"
      ]
     },
     "execution_count": 25,
     "metadata": {},
     "output_type": "execute_result"
    }
   ],
   "source": [
    "def rmse(y, y_pred):\n",
    "    error = y_pred - y\n",
    "    mse = (error ** 2).mean()\n",
    "    return np.sqrt(mse)\n",
    "\n",
    "rmse(y_train, y_pred)"
   ]
  },
  {
   "cell_type": "code",
   "execution_count": 26,
   "id": "ec527342",
   "metadata": {},
   "outputs": [
    {
     "data": {
      "text/plain": [
       "0.24054298074453737"
      ]
     },
     "execution_count": 26,
     "metadata": {},
     "output_type": "execute_result"
    }
   ],
   "source": [
    "X_val = prepare_X(df_val)\n",
    "y_pred = w_0 + X_val.dot(w)\n",
    "rmse(y_val, y_pred)"
   ]
  },
  {
   "cell_type": "code",
   "execution_count": 27,
   "id": "59617726",
   "metadata": {},
   "outputs": [],
   "source": [
    "def prepare_X(df):\n",
    "    df = df.copy()\n",
    "    features = base.copy()\n",
    "\n",
    "    df['age'] = 2024 - df['год']\n",
    "    features.append('age')\n",
    "\n",
    "    df_num = df[features]\n",
    "    df_num = df_num.fillna(0)\n",
    "    X = df_num.values\n",
    "    return X"
   ]
  },
  {
   "cell_type": "code",
   "execution_count": 28,
   "id": "968d6ad5",
   "metadata": {},
   "outputs": [
    {
     "name": "stdout",
     "output_type": "stream",
     "text": [
      "train 0.24293263421185435\n",
      "validation 0.24246032945511617\n"
     ]
    }
   ],
   "source": [
    "X_train = prepare_X(df_train)\n",
    "w_0, w = train_linear_regression(X_train, y_train)\n",
    "\n",
    "y_pred = w_0 + X_train.dot(w)\n",
    "print('train', rmse(y_train, y_pred))\n",
    "\n",
    "X_val = prepare_X(df_val)\n",
    "y_pred = w_0 + X_val.dot(w)\n",
    "print('validation', rmse(y_val, y_pred))"
   ]
  },
  {
   "cell_type": "code",
   "execution_count": 29,
   "id": "babc5b3f",
   "metadata": {},
   "outputs": [
    {
     "data": {
      "image/png": "[encoded data removed]",
      "text/plain": [
       "<Figure size 600x400 with 1 Axes>"
      ]
     },
     "metadata": {},
     "output_type": "display_data"
    }
   ],
   "source": [
    "plt.figure(figsize=(6, 4))\n",
    "\n",
    "\n",
    "sns.histplot(y_val, label='target', color='#222222', alpha=0.6, bins=40)\n",
    "sns.histplot(y_pred, label='prediction', color='#aaaaaa', alpha=0.8, bins=40)\n",
    "\n",
    "plt.legend()\n",
    "\n",
    "plt.ylabel('Frequency')\n",
    "plt.xlabel('Log(Price + 1)')\n",
    "plt.title('Predictions vs actual distribution')\n",
    "\n",
    "plt.show()"
   ]
  },
  {
   "cell_type": "code",
   "execution_count": 30,
   "id": "909a2f37",
   "metadata": {},
   "outputs": [],
   "source": [
    "def prepare_X(df):\n",
    "    df = df.copy()\n",
    "    features = base.copy()\n",
    "\n",
    "    df['age'] = 2024 - df['год']\n",
    "    features.append('age')\n",
    "    \n",
    "    features.append('общий_этаж')\n",
    "    \n",
    "\n",
    "    df_num = df[features]\n",
    "    df_num = df_num.fillna(0)\n",
    "    X = df_num.values\n",
    "    return X"
   ]
  },
  {
   "cell_type": "code",
   "execution_count": 31,
   "id": "99d511e8",
   "metadata": {},
   "outputs": [
    {
     "name": "stdout",
     "output_type": "stream",
     "text": [
      "train 0.23825897338405766\n",
      "validation 0.24008233350148095\n"
     ]
    }
   ],
   "source": [
    "X_train = prepare_X(df_train)\n",
    "w_0, w = train_linear_regression(X_train, y_train)\n",
    "\n",
    "y_pred = w_0 + X_train.dot(w)\n",
    "print('train', rmse(y_train, y_pred))\n",
    "\n",
    "X_val = prepare_X(df_val)\n",
    "y_pred = w_0 + X_val.dot(w)\n",
    "print('validation', rmse(y_val, y_pred))"
   ]
  },
  {
   "cell_type": "code",
   "execution_count": 32,
   "id": "e682e6bc",
   "metadata": {},
   "outputs": [
    {
     "data": {
      "text/plain": [
       "материал\n",
       "монолитный    2640\n",
       "кирпичный     1260\n",
       "панельный      964\n",
       "Name: count, dtype: int64"
      ]
     },
     "execution_count": 32,
     "metadata": {},
     "output_type": "execute_result"
    }
   ],
   "source": [
    "df['материал'].value_counts()"
   ]
  },
  {
   "cell_type": "code",
   "execution_count": 33,
   "id": "1a88dbe2",
   "metadata": {},
   "outputs": [],
   "source": [
    "def prepare_X(df):\n",
    "    df = df.copy()\n",
    "    features = base.copy()\n",
    "\n",
    "    df['age'] = 2024 - df['год']\n",
    "    features.append('age')\n",
    "    \n",
    "    features.append('общий_этаж')\n",
    "    \n",
    "    for v in ['монолитный', 'кирпичный', 'панельный']:\n",
    "        feature = 'is_type_%s' % v\n",
    "        df[feature] = (df['материал'] == v).astype(int)\n",
    "        features.append(feature)\n",
    "    \n",
    "\n",
    "    df_num = df[features]\n",
    "    df_num = df_num.fillna(0)\n",
    "    X = df_num.values\n",
    "    return X"
   ]
  },
  {
   "cell_type": "code",
   "execution_count": 34,
   "id": "e4e94c07",
   "metadata": {},
   "outputs": [
    {
     "name": "stdout",
     "output_type": "stream",
     "text": [
      "train: 42.43594586595956\n",
      "validation: 40.81990548282886\n"
     ]
    }
   ],
   "source": [
    "X_train = prepare_X(df_train)\n",
    "w_0, w = train_linear_regression(X_train, y_train)\n",
    "\n",
    "y_pred = w_0 + X_train.dot(w)\n",
    "print('train:', rmse(y_train, y_pred))\n",
    "\n",
    "X_val = prepare_X(df_val)\n",
    "y_pred = w_0 + X_val.dot(w)\n",
    "print('validation:', rmse(y_val, y_pred))\n"
   ]
  },
  {
   "cell_type": "code",
   "execution_count": 35,
   "id": "300ae8c5",
   "metadata": {},
   "outputs": [],
   "source": [
    "def prepare_X(df):\n",
    "    df = df.copy()\n",
    "    features = base.copy()\n",
    "\n",
    "    df['age'] = 2024 - df['год']\n",
    "    features.append('age')\n",
    "    \n",
    "    features.append('общий_этаж')\n",
    "    \n",
    "    features.append('lat')\n",
    "    features.append('lon')\n",
    "    \n",
    "    for v in ['монолитный', 'кирпичный', 'панельный']:\n",
    "        feature = 'is_type_%s' % v\n",
    "        df[feature] = (df['материал'] == v).astype(int)\n",
    "        features.append(feature)\n",
    "    \n",
    "\n",
    "    df_num = df[features]\n",
    "    df_num = df_num.fillna(0)\n",
    "    X = df_num.values\n",
    "    return X"
   ]
  },
  {
   "cell_type": "code",
   "execution_count": 36,
   "id": "003c74d9",
   "metadata": {},
   "outputs": [
    {
     "name": "stdout",
     "output_type": "stream",
     "text": [
      "train: 172.66755293655123\n",
      "validation: 165.77113736974346\n"
     ]
    }
   ],
   "source": [
    "X_train = prepare_X(df_train)\n",
    "w_0, w = train_linear_regression(X_train, y_train)\n",
    "\n",
    "y_pred = w_0 + X_train.dot(w)\n",
    "print('train:', rmse(y_train, y_pred))\n",
    "\n",
    "X_val = prepare_X(df_val)\n",
    "y_pred = w_0 + X_val.dot(w)\n",
    "print('validation:', rmse(y_val, y_pred))\n"
   ]
  },
  {
   "cell_type": "code",
   "execution_count": 37,
   "id": "10a294ab",
   "metadata": {},
   "outputs": [
    {
     "data": {
      "text/plain": [
       "санузел\n",
       "раздельный       683\n",
       "совмещенный      533\n",
       "2_с/у_и_более    159\n",
       "нет                3\n",
       "Name: count, dtype: int64"
      ]
     },
     "execution_count": 37,
     "metadata": {},
     "output_type": "execute_result"
    }
   ],
   "source": [
    "df['санузел'].value_counts()"
   ]
  },
  {
   "cell_type": "code",
   "execution_count": 38,
   "id": "45b87b7d",
   "metadata": {},
   "outputs": [],
   "source": [
    "def prepare_X(df):\n",
    "    df = df.copy()\n",
    "    features = base.copy()\n",
    "\n",
    "    df['age'] = 2024 - df['год']\n",
    "    features.append('age')\n",
    "    \n",
    "    features.append('общий_этаж')\n",
    "    \n",
    "    features.append('lat')\n",
    "    features.append('lon')\n",
    "    \n",
    "    for v in ['монолитный', 'кирпичный', 'панельный']:\n",
    "        feature = 'is_type_%s' % v\n",
    "        df[feature] = (df['материал'] == v).astype(int)\n",
    "        features.append(feature)\n",
    "        \n",
    "    for v in ['раздельный', 'совмещенный', '2_с/у_и_более']:\n",
    "        feature = 'is_type_%s' % v\n",
    "        df[feature] = (df['санузел'] == v).astype(int)\n",
    "        features.append(feature)\n",
    "    \n",
    "\n",
    "    df_num = df[features]\n",
    "    df_num = df_num.fillna(0)\n",
    "    X = df_num.values\n",
    "    return X"
   ]
  },
  {
   "cell_type": "code",
   "execution_count": 39,
   "id": "d69445c8",
   "metadata": {},
   "outputs": [
    {
     "name": "stdout",
     "output_type": "stream",
     "text": [
      "train: 85.95223540978483\n",
      "validation: 81.1702019205284\n"
     ]
    }
   ],
   "source": [
    "X_train = prepare_X(df_train)\n",
    "w_0, w = train_linear_regression(X_train, y_train)\n",
    "\n",
    "y_pred = w_0 + X_train.dot(w)\n",
    "print('train:', rmse(y_train, y_pred))\n",
    "\n",
    "X_val = prepare_X(df_val)\n",
    "y_pred = w_0 + X_val.dot(w)\n",
    "print('validation:', rmse(y_val, y_pred))\n"
   ]
  },
  {
   "cell_type": "code",
   "execution_count": 40,
   "id": "2966b8ea",
   "metadata": {},
   "outputs": [
    {
     "data": {
      "text/plain": [
       "серия\n",
       "элитка                 2791\n",
       "индивид._планировка     932\n",
       "105_серия               319\n",
       "106_серия               312\n",
       "104_серия               295\n",
       "хрущевка                 97\n",
       "108_серия                58\n",
       "сталинка                 32\n",
       "малосемейка              20\n",
       "пентхаус                  7\n",
       "107_серия                 1\n",
       "Name: count, dtype: int64"
      ]
     },
     "execution_count": 40,
     "metadata": {},
     "output_type": "execute_result"
    }
   ],
   "source": [
    "df['серия'].value_counts()"
   ]
  },
  {
   "cell_type": "code",
   "execution_count": null,
   "id": "a83679e8",
   "metadata": {},
   "outputs": [],
   "source": []
  },
  {
   "cell_type": "code",
   "execution_count": 41,
   "id": "945ef4ca",
   "metadata": {},
   "outputs": [],
   "source": [
    "\n",
    "def prepare_X(df):\n",
    "    df = df.copy()\n",
    "    features = base.copy()\n",
    "\n",
    "    df['age'] = 2024 - df['год']\n",
    "    features.append('age')\n",
    "    \n",
    "    features.append('общий_этаж')\n",
    "    \n",
    "    features.append('lat')\n",
    "    features.append('lon')\n",
    "    \n",
    "    for v in ['монолитный', 'кирпичный', 'панельный']:\n",
    "        feature = 'is_type_%s' % v\n",
    "        df[feature] = (df['материал'] == v).astype(int)\n",
    "        features.append(feature)\n",
    "        \n",
    "    for v in ['раздельный', 'совмещенный', '2_с/у_и_более']:\n",
    "        feature = 'is_type_%s' % v\n",
    "        df[feature] = (df['санузел'] == v).astype(int)\n",
    "        features.append(feature)\n",
    "        \n",
    "    for v in ['элитка', 'индивид._планировка', '105_серия', '106_серия', '104_серия', 'хрущевка', '108_серия', 'сталинка', 'малосемейка']:\n",
    "        feature = 'is_type_%s' % v\n",
    "        df[feature] = (df['серия'] == v).astype(int)\n",
    "        features.append(feature)\n",
    "    \n",
    "\n",
    "    df_num = df[features]\n",
    "    df_num = df_num.fillna(0)\n",
    "    X = df_num.values\n",
    "    return X"
   ]
  },
  {
   "cell_type": "code",
   "execution_count": 42,
   "id": "c0027914",
   "metadata": {},
   "outputs": [
    {
     "name": "stdout",
     "output_type": "stream",
     "text": [
      "train: 863.7005502078306\n",
      "validation: 812.8576632347323\n"
     ]
    }
   ],
   "source": [
    "X_train = prepare_X(df_train)\n",
    "w_0, w = train_linear_regression(X_train, y_train)\n",
    "\n",
    "y_pred = w_0 + X_train.dot(w)\n",
    "print('train:', rmse(y_train, y_pred))\n",
    "\n",
    "X_val = prepare_X(df_val)\n",
    "y_pred = w_0 + X_val.dot(w)\n",
    "print('validation:', rmse(y_val, y_pred))\n"
   ]
  },
  {
   "cell_type": "code",
   "execution_count": 43,
   "id": "6ccd950e",
   "metadata": {},
   "outputs": [],
   "source": [
    "\n",
    "def prepare_X(df):\n",
    "    df = df.copy()\n",
    "    features = base.copy()\n",
    "\n",
    "    df['age'] = 2024 - df['год']\n",
    "    features.append('age')\n",
    "    \n",
    "    features.append('общий_этаж')\n",
    "    \n",
    "    features.append('lat')\n",
    "    features.append('lon')\n",
    "    \n",
    "    for v in ['монолитный', 'кирпичный', 'панельный']:\n",
    "        feature = 'is_type_%s' % v\n",
    "        df[feature] = (df['материал'] == v).astype(int)\n",
    "        features.append(feature)\n",
    "        \n",
    "    for v in ['раздельный', 'совмещенный', '2_с/у_и_более']:\n",
    "        feature = 'is_type_%s' % v\n",
    "        df[feature] = (df['санузел'] == v).astype(int)\n",
    "        features.append(feature)\n",
    "        \n",
    "    for v in ['элитка', 'индивид._планировка', '105_серия', '106_серия', '104_серия', 'хрущевка', '108_серия', 'сталинка', 'малосемейка']:\n",
    "        feature = 'is_type_%s' % v\n",
    "        df[feature] = (df['серия'] == v).astype(int)\n",
    "        features.append(feature)\n",
    "        \n",
    "    for v in ['раздельный', 'совмещенный', '2_с/у_и_более']:\n",
    "        feature = 'is_type_%s' % v\n",
    "        df[feature] = (df['санузел'] == v).astype(int)\n",
    "        features.append(feature)\n",
    "    \n",
    "    for v in ['собственник', 'агент']:\n",
    "        feature = 'is_typepr_%s' % v\n",
    "        df[feature] = (df['тип_предложения'] == v).astype(int)\n",
    "        features.append(feature)\n",
    "\n",
    "    df_num = df[features]\n",
    "    df_num = df_num.fillna(0)\n",
    "    X = df_num.values\n",
    "    return X"
   ]
  },
  {
   "cell_type": "code",
   "execution_count": 44,
   "id": "93b5eee8",
   "metadata": {},
   "outputs": [
    {
     "name": "stdout",
     "output_type": "stream",
     "text": [
      "train: 801.6918840515032\n",
      "validation: 774.8218907970622\n"
     ]
    }
   ],
   "source": [
    "X_train = prepare_X(df_train)\n",
    "w_0, w = train_linear_regression(X_train, y_train)\n",
    "\n",
    "y_pred = w_0 + X_train.dot(w)\n",
    "print('train:', rmse(y_train, y_pred))\n",
    "\n",
    "X_val = prepare_X(df_val)\n",
    "y_pred = w_0 + X_val.dot(w)\n",
    "print('validation:', rmse(y_val, y_pred))\n"
   ]
  },
  {
   "cell_type": "code",
   "execution_count": 45,
   "id": "e6859fe5",
   "metadata": {},
   "outputs": [
    {
     "data": {
      "text/plain": [
       "состояние\n",
       "евроремонт               1940\n",
       "под_самоотделку_(псо)    1040\n",
       "хорошее                   797\n",
       "среднее                   223\n",
       "не_достроено               45\n",
       "Name: count, dtype: int64"
      ]
     },
     "execution_count": 45,
     "metadata": {},
     "output_type": "execute_result"
    }
   ],
   "source": [
    "df['состояние'].value_counts()"
   ]
  },
  {
   "cell_type": "code",
   "execution_count": 46,
   "id": "4a4fb978",
   "metadata": {},
   "outputs": [],
   "source": [
    "\n",
    "def prepare_X(df):\n",
    "    df = df.copy()\n",
    "    features = base.copy()\n",
    "\n",
    "    df['age'] = 2024 - df['год']\n",
    "    features.append('age')\n",
    "    \n",
    "    features.append('общий_этаж')\n",
    "    \n",
    "    features.append('lat')\n",
    "    features.append('lon')\n",
    "    \n",
    "    for v in ['монолитный', 'кирпичный', 'панельный']:\n",
    "        feature = 'is_type_%s' % v\n",
    "        df[feature] = (df['материал'] == v).astype(int)\n",
    "        features.append(feature)\n",
    "        \n",
    "    for v in ['раздельный', 'совмещенный', '2_с/у_и_более']:\n",
    "        feature = 'is_type_%s' % v\n",
    "        df[feature] = (df['санузел'] == v).astype(int)\n",
    "        features.append(feature)\n",
    "        \n",
    "    for v in ['элитка', 'индивид._планировка', '105_серия', '106_серия', '104_серия', 'хрущевка', '108_серия', 'сталинка', 'малосемейка']:\n",
    "        feature = 'is_type_%s' % v\n",
    "        df[feature] = (df['серия'] == v).astype(int)\n",
    "        features.append(feature)\n",
    "        \n",
    "    for v in ['раздельный', 'совмещенный', '2_с/у_и_более']:\n",
    "        feature = 'is_type_%s' % v\n",
    "        df[feature] = (df['санузел'] == v).astype(int)\n",
    "        features.append(feature)\n",
    "    \n",
    "    for v in ['собственник', 'агент']:\n",
    "        feature = 'is_typepr_%s' % v\n",
    "        df[feature] = (df['тип_предложения'] == v).astype(int)\n",
    "        features.append(feature)\n",
    "    \n",
    "    for v in ['евроремонт', 'под_самоотделку_(псо)', 'хорошее', 'среднее', 'не_достроено']:\n",
    "        feature = 'is_remont_%s' % v\n",
    "        df[feature] = (df['состояние'] == v).astype(int)\n",
    "        features.append(feature)\n",
    "\n",
    "    df_num = df[features]\n",
    "    df_num = df_num.fillna(0)\n",
    "    X = df_num.values\n",
    "    return X"
   ]
  },
  {
   "cell_type": "code",
   "execution_count": 47,
   "id": "da1f0421",
   "metadata": {},
   "outputs": [
    {
     "name": "stdout",
     "output_type": "stream",
     "text": [
      "train: 7810.340402819517\n",
      "validation: 7499.934387534351\n"
     ]
    }
   ],
   "source": [
    "X_train = prepare_X(df_train)\n",
    "w_0, w = train_linear_regression(X_train, y_train)\n",
    "\n",
    "y_pred = w_0 + X_train.dot(w)\n",
    "print('train:', rmse(y_train, y_pred))\n",
    "\n",
    "X_val = prepare_X(df_val)\n",
    "y_pred = w_0 + X_val.dot(w)\n",
    "print('validation:', rmse(y_val, y_pred))"
   ]
  },
  {
   "cell_type": "code",
   "execution_count": 48,
   "id": "ab04ea94",
   "metadata": {},
   "outputs": [],
   "source": [
    "\n",
    "def prepare_X(df):\n",
    "    df = df.copy()\n",
    "    features = base.copy()\n",
    "\n",
    "    df['age'] = 2024 - df['год']\n",
    "    features.append('age')\n",
    "    \n",
    "    features.append('общий_этаж')\n",
    "    \n",
    "    features.append('lat')\n",
    "    features.append('lon')\n",
    "    features.append('красная_книга')\n",
    "    features.append('охрана')\n",
    "    features.append('балкон')\n",
    "    features.append('газ')\n",
    "    \n",
    "    for v in ['монолитный', 'кирпичный', 'панельный']:\n",
    "        feature = 'is_type_%s' % v\n",
    "        df[feature] = (df['материал'] == v).astype(int)\n",
    "        features.append(feature)\n",
    "        \n",
    "    for v in ['раздельный', 'совмещенный', '2_с/у_и_более']:\n",
    "        feature = 'is_type_%s' % v\n",
    "        df[feature] = (df['санузел'] == v).astype(int)\n",
    "        features.append(feature)\n",
    "        \n",
    "    for v in ['элитка', 'индивид._планировка', '105_серия', '106_серия', '104_серия', 'хрущевка', '108_серия', 'сталинка', 'малосемейка']:\n",
    "        feature = 'is_type_%s' % v\n",
    "        df[feature] = (df['серия'] == v).astype(int)\n",
    "        features.append(feature)\n",
    "        \n",
    "    for v in ['раздельный', 'совмещенный', '2_с/у_и_более']:\n",
    "        feature = 'is_type_%s' % v\n",
    "        df[feature] = (df['санузел'] == v).astype(int)\n",
    "        features.append(feature)\n",
    "    \n",
    "    for v in ['собственник', 'агент']:\n",
    "        feature = 'is_typepr_%s' % v\n",
    "        df[feature] = (df['тип_предложения'] == v).astype(int)\n",
    "        features.append(feature)\n",
    "    \n",
    "    for v in ['евроремонт', 'под_самоотделку_(псо)', 'хорошее', 'среднее', 'не_достроено']:\n",
    "        feature = 'is_remont_%s' % v\n",
    "        df[feature] = (df['состояние'] == v).astype(int)\n",
    "        features.append(feature)\n",
    "\n",
    "    df_num = df[features]\n",
    "    df_num = df_num.fillna(0)\n",
    "    X = df_num.values\n",
    "    return X"
   ]
  },
  {
   "cell_type": "code",
   "execution_count": 49,
   "id": "6369741c",
   "metadata": {},
   "outputs": [
    {
     "name": "stdout",
     "output_type": "stream",
     "text": [
      "train: 3486.8968772118683\n",
      "validation: 3525.6294558301315\n"
     ]
    }
   ],
   "source": [
    "X_train = prepare_X(df_train)\n",
    "w_0, w = train_linear_regression(X_train, y_train)\n",
    "\n",
    "y_pred = w_0 + X_train.dot(w)\n",
    "print('train:', rmse(y_train, y_pred))\n",
    "\n",
    "X_val = prepare_X(df_val)\n",
    "y_pred = w_0 + X_val.dot(w)\n",
    "print('validation:', rmse(y_val, y_pred))"
   ]
  },
  {
   "cell_type": "code",
   "execution_count": 50,
   "id": "f47c615b",
   "metadata": {},
   "outputs": [
    {
     "data": {
      "text/plain": [
       "мебель\n",
       "полностью_меблирована    439\n",
       "частично_меблирована     411\n",
       "пустая                   283\n",
       "Name: count, dtype: int64"
      ]
     },
     "execution_count": 50,
     "metadata": {},
     "output_type": "execute_result"
    }
   ],
   "source": [
    "df['мебель'].value_counts()"
   ]
  },
  {
   "cell_type": "code",
   "execution_count": 51,
   "id": "0c8fddcb",
   "metadata": {},
   "outputs": [],
   "source": [
    "\n",
    "def prepare_X(df):\n",
    "    df = df.copy()\n",
    "    features = base.copy()\n",
    "\n",
    "    df['age'] = 2024 - df['год']\n",
    "    features.append('age')\n",
    "    \n",
    "    features.append('общий_этаж')\n",
    "    \n",
    "    features.append('lat')\n",
    "    features.append('lon')\n",
    "    features.append('красная_книга')\n",
    "    features.append('охрана')\n",
    "    features.append('балкон')\n",
    "    features.append('газ')\n",
    "    \n",
    "    features.append('видеонаблюдение')\n",
    "    features.append('решетки_на_окнах')\n",
    "    features.append('сигнализация')\n",
    "    features.append('технический_паспорт')\n",
    "    #features.append('отопление')\n",
    "    \n",
    "    \n",
    "    for v in ['монолитный', 'кирпичный', 'панельный']:\n",
    "        feature = 'is_type_%s' % v\n",
    "        df[feature] = (df['материал'] == v).astype(int)\n",
    "        features.append(feature)\n",
    "        \n",
    "    for v in ['раздельный', 'совмещенный', '2_с/у_и_более']:\n",
    "        feature = 'is_type_%s' % v\n",
    "        df[feature] = (df['санузел'] == v).astype(int)\n",
    "        features.append(feature)\n",
    "        \n",
    "    for v in ['элитка', 'индивид._планировка', '105_серия', '106_серия', '104_серия', 'хрущевка', '108_серия', 'сталинка', 'малосемейка']:\n",
    "        feature = 'is_type_%s' % v\n",
    "        df[feature] = (df['серия'] == v).astype(int)\n",
    "        features.append(feature)\n",
    "        \n",
    "    for v in ['раздельный', 'совмещенный', '2_с/у_и_более']:\n",
    "        feature = 'is_type_%s' % v\n",
    "        df[feature] = (df['санузел'] == v).astype(int)\n",
    "        features.append(feature)\n",
    "    \n",
    "    for v in ['собственник', 'агент']:\n",
    "        feature = 'is_typepr_%s' % v\n",
    "        df[feature] = (df['тип_предложения'] == v).astype(int)\n",
    "        features.append(feature)\n",
    "    \n",
    "    for v in ['евроремонт', 'под_самоотделку_(псо)', 'хорошее', 'среднее', 'не_достроено']:\n",
    "        feature = 'is_remont_%s' % v\n",
    "        df[feature] = (df['состояние'] == v).astype(int)\n",
    "        features.append(feature)\n",
    "        \n",
    "\n",
    "    df_num = df[features]\n",
    "    df_num = df_num.fillna(0)\n",
    "    X = df_num.values\n",
    "    return X"
   ]
  },
  {
   "cell_type": "code",
   "execution_count": 52,
   "id": "6cdbe227",
   "metadata": {},
   "outputs": [
    {
     "name": "stdout",
     "output_type": "stream",
     "text": [
      "train: 259.86086911366397\n",
      "validation: 239.39756858621757\n"
     ]
    }
   ],
   "source": [
    "X_train = prepare_X(df_train)\n",
    "w_0, w = train_linear_regression(X_train, y_train)\n",
    "\n",
    "y_pred = w_0 + X_train.dot(w)\n",
    "print('train:', rmse(y_train, y_pred))\n",
    "\n",
    "X_val = prepare_X(df_val)\n",
    "y_pred = w_0 + X_val.dot(w)\n",
    "print('validation:', rmse(y_val, y_pred))"
   ]
  },
  {
   "cell_type": "code",
   "execution_count": 54,
   "id": "763ed3b8",
   "metadata": {},
   "outputs": [
    {
     "data": {
      "text/plain": [
       "4574787999227784.0"
      ]
     },
     "execution_count": 54,
     "metadata": {},
     "output_type": "execute_result"
    }
   ],
   "source": [
    "w_0"
   ]
  },
  {
   "cell_type": "code",
   "execution_count": 55,
   "id": "949df8c7",
   "metadata": {},
   "outputs": [],
   "source": [
    "def train_linear_regression_reg(X, y, r=0.0):\n",
    "    ones = np.ones(X.shape[0])\n",
    "    X = np.column_stack([ones, X])\n",
    "\n",
    "    XTX = X.T.dot(X)\n",
    "    reg = r * np.eye(XTX.shape[0])\n",
    "    XTX = XTX + reg\n",
    "\n",
    "    XTX_inv = np.linalg.inv(XTX)\n",
    "    w = XTX_inv.dot(X.T).dot(y)\n",
    "    \n",
    "    return w[0], w[1:]"
   ]
  },
  {
   "cell_type": "code",
   "execution_count": 56,
   "id": "11cca091",
   "metadata": {},
   "outputs": [],
   "source": [
    "X_train = prepare_X(df_train)"
   ]
  },
  {
   "cell_type": "code",
   "execution_count": 57,
   "id": "91bcb89b",
   "metadata": {},
   "outputs": [
    {
     "name": "stdout",
     "output_type": "stream",
     "text": [
      "    0, 4574787999227784.00, 8.84, -42091150497662768.00\n",
      "0.001, 16.89, 0.00, -0.02\n",
      " 0.01, 2.37, 0.00, -0.02\n",
      "  0.1, 0.25, 0.00, -0.02\n",
      "    1, 0.02, 0.00, -0.02\n",
      "   10, 0.00, 0.00, -0.02\n"
     ]
    }
   ],
   "source": [
    "for r in [0, 0.001, 0.01, 0.1, 1, 10]:\n",
    "    w_0, w = train_linear_regression_reg(X_train, y_train, r=r)\n",
    "    print('%5s, %.2f, %.2f, %.2f' % (r, w_0, w[13], w[21]))"
   ]
  },
  {
   "cell_type": "code",
   "execution_count": 58,
   "id": "a297f61d",
   "metadata": {},
   "outputs": [
    {
     "name": "stdout",
     "output_type": "stream",
     "text": [
      "train 259.86086911366397\n",
      "val 239.39756858621757\n"
     ]
    }
   ],
   "source": [
    "X_train = prepare_X(df_train)\n",
    "w_0, w = train_linear_regression_reg(X_train, y_train, r=0)\n",
    "\n",
    "y_pred = w_0 + X_train.dot(w)\n",
    "print('train', rmse(y_train, y_pred))\n",
    "\n",
    "X_val = prepare_X(df_val)\n",
    "y_pred = w_0 + X_val.dot(w)\n",
    "print('val', rmse(y_val, y_pred))"
   ]
  },
  {
   "cell_type": "code",
   "execution_count": 67,
   "id": "335549a0",
   "metadata": {},
   "outputs": [
    {
     "name": "stdout",
     "output_type": "stream",
     "text": [
      "train 0.2060532474744437\n",
      "val 0.20654470824528623\n"
     ]
    }
   ],
   "source": [
    "X_train = prepare_X(df_train)\n",
    "w_0, w = train_linear_regression_reg(X_train, y_train, r=0.001)\n",
    "\n",
    "y_pred = w_0 + X_train.dot(w)\n",
    "print('train', rmse(y_train, y_pred))\n",
    "\n",
    "X_val = prepare_X(df_val)\n",
    "y_pred = w_0 + X_val.dot(w)\n",
    "print('val', rmse(y_val, y_pred))"
   ]
  },
  {
   "cell_type": "code",
   "execution_count": 68,
   "id": "8823642c",
   "metadata": {},
   "outputs": [
    {
     "name": "stdout",
     "output_type": "stream",
     "text": [
      " 1e-06 0.20605050149437623\n",
      "0.0001 0.20601571985731765\n",
      " 0.001 0.20654470824528623\n",
      "  0.01 0.20721717757255115\n",
      "   0.1 0.207334015877819\n",
      "     1 0.2077306061077013\n",
      "     5 0.20874916256501372\n",
      "    10 0.20942290934114094\n"
     ]
    }
   ],
   "source": [
    "X_train = prepare_X(df_train)\n",
    "X_val = prepare_X(df_val)\n",
    "\n",
    "for r in [0.000001, 0.0001, 0.001, 0.01, 0.1, 1, 5, 10]:\n",
    "    w_0, w = train_linear_regression_reg(X_train, y_train, r=r)\n",
    "    y_pred = w_0 + X_val.dot(w)\n",
    "    print('%6s' %r, rmse(y_val, y_pred))"
   ]
  },
  {
   "cell_type": "code",
   "execution_count": 70,
   "id": "e844b381",
   "metadata": {},
   "outputs": [
    {
     "data": {
      "image/png": "[encoded data removed]",
      "text/plain": [
       "<Figure size 600x400 with 1 Axes>"
      ]
     },
     "metadata": {},
     "output_type": "display_data"
    }
   ],
   "source": [
    "plt.figure(figsize=(6, 4))\n",
    "\n",
    "\n",
    "sns.histplot(y_val, label='target', color='#222222', alpha=0.6, bins=40)\n",
    "sns.histplot(y_pred, label='prediction', color='#aaaaaa', alpha=0.8, bins=40)\n",
    "\n",
    "plt.legend()\n",
    "\n",
    "plt.ylabel('Frequency')\n",
    "plt.xlabel('Log(Price + 1)')\n",
    "plt.title('Predictions vs actual distribution')\n",
    "\n",
    "plt.show()"
   ]
  },
  {
   "cell_type": "code",
   "execution_count": null,
   "id": "d7b0daec",
   "metadata": {},
   "outputs": [],
   "source": []
  },
  {
   "cell_type": "code",
   "execution_count": 103,
   "id": "bab1d7af",
   "metadata": {},
   "outputs": [
    {
     "name": "stdout",
     "output_type": "stream",
     "text": [
      "validation: 0.20605050149437623\n",
      "test: 0.21979155837293227\n"
     ]
    }
   ],
   "source": [
    "X_train = prepare_X(df_train)\n",
    "w_0, w = train_linear_regression_reg(X_train, y_train, r=0.000001)\n",
    "\n",
    "X_val = prepare_X(df_val)\n",
    "y_pred = w_0 + X_val.dot(w)\n",
    "print('validation:', rmse(y_val, y_pred))\n",
    "\n",
    "X_test = prepare_X(df_test)\n",
    "y_pred = w_0 + X_test.dot(w)\n",
    "print('test:', rmse(y_test, y_pred))"
   ]
  },
  {
   "cell_type": "code",
   "execution_count": 104,
   "id": "5876516c",
   "metadata": {},
   "outputs": [
    {
     "data": {
      "image/png": "[encoded data removed]",
      "text/plain": [
       "<Figure size 600x400 with 1 Axes>"
      ]
     },
     "metadata": {},
     "output_type": "display_data"
    }
   ],
   "source": [
    "plt.figure(figsize=(6, 4))\n",
    "\n",
    "\n",
    "sns.histplot(y_test, label='target', color='#222222', alpha=0.6, bins=40)\n",
    "sns.histplot(y_pred, label='prediction', color='#aaaaaa', alpha=0.8, bins=40)\n",
    "\n",
    "plt.legend()\n",
    "\n",
    "plt.ylabel('Frequency')\n",
    "plt.xlabel('Log(Price + 1)')\n",
    "plt.title('Predictions vs actual distribution')\n",
    "\n",
    "plt.show()"
   ]
  },
  {
   "cell_type": "code",
   "execution_count": 105,
   "id": "ca6d9671",
   "metadata": {},
   "outputs": [
    {
     "data": {
      "image/png": "[encoded data removed]",
      "text/plain": [
       "<Figure size 800x600 with 1 Axes>"
      ]
     },
     "metadata": {},
     "output_type": "display_data"
    }
   ],
   "source": [
    "plt.figure(figsize=(8, 6))\n",
    "plt.scatter(y_test, y_pred, color='green', alpha=0.5, label='Predicted vs Actual (Random Sample)')\n",
    "plt.plot([min(y_test), max(y_pred)], [min(y_test), max(y_pred)], color='red', label='Ideal Fit')  # Diagonal line\n",
    "plt.xlabel('Actual Revenue')\n",
    "plt.ylabel('Predicted Revenue')\n",
    "plt.title('Actual vs Predicted Revenue (Random Sample)')\n",
    "plt.legend()\n",
    "plt.grid(True)\n",
    "plt.show()"
   ]
  },
  {
   "cell_type": "code",
   "execution_count": 106,
   "id": "94cc61d8",
   "metadata": {},
   "outputs": [
    {
     "data": {
      "image/png": "[encoded data removed]",
      "text/plain": [
       "<Figure size 800x600 with 1 Axes>"
      ]
     },
     "metadata": {},
     "output_type": "display_data"
    }
   ],
   "source": [
    "plt.figure(figsize=(8, 6))\n",
    "plt.scatter(y_test, y_pred, color='green', alpha=0.5, label='Predicted vs Actual (Test)')\n",
    "plt.plot([min(y_test), max(y_test)], [min(y_test), max(y_test)], color='red', linestyle='--', label='Perfect Prediction')\n",
    "plt.title('Predicted Prices vs Actual Prices (Test)')\n",
    "plt.xlabel('Actual Prices')\n",
    "plt.ylabel('Predicted Prices')\n",
    "plt.legend()\n",
    "plt.grid(True)"
   ]
  },
  {
   "cell_type": "code",
   "execution_count": 107,
   "id": "35c53a5f",
   "metadata": {},
   "outputs": [
    {
     "data": {
      "text/plain": [
       "{'тип_предложения': 'агент',\n",
       " 'комнаты': 2,\n",
       " 'адрес': 'бишкек,_9_м-н',\n",
       " 'серия': '104_серия',\n",
       " 'площадь': 44.0,\n",
       " 'отопление': 1.0,\n",
       " 'состояние': 'хорошее',\n",
       " 'возможность_рассрочки': nan,\n",
       " 'возможность_ипотеки': nan,\n",
       " 'возможность_обмена': nan,\n",
       " 'интернет': nan,\n",
       " 'газ': nan,\n",
       " 'балкон': nan,\n",
       " 'мебель': nan,\n",
       " 'пол': nan,\n",
       " 'высота_потолков': nan,\n",
       " 'телефон': nan,\n",
       " 'санузел': nan,\n",
       " 'входная_дверь': nan,\n",
       " 'парковка': nan,\n",
       " 'lat': 42.8359,\n",
       " 'lon': 74.6035,\n",
       " 'город': 'бишкек',\n",
       " 'номер_этажа': 1,\n",
       " 'общий_этаж': 4,\n",
       " 'домофон': 0,\n",
       " 'видеонаблюдение': 0,\n",
       " 'охрана': 0,\n",
       " 'решетки_на_окнах': 0,\n",
       " 'кодовый_замок': 0,\n",
       " 'сигнализация': 0,\n",
       " 'видеодомофон': 0,\n",
       " 'консьерж': 0,\n",
       " 'договор_купли-продажи': 0,\n",
       " 'договор_дарения': 0,\n",
       " 'технический_паспорт': 0,\n",
       " 'акт_ввода_в_эксплуатацию': 0,\n",
       " 'красная_книга': 0,\n",
       " 'зеленая_книга': 0,\n",
       " 'материал': 'кирпичный',\n",
       " 'год': nan}"
      ]
     },
     "execution_count": 107,
     "metadata": {},
     "output_type": "execute_result"
    }
   ],
   "source": [
    "i = 2\n",
    "ad = df_test.iloc[i].to_dict()\n",
    "ad"
   ]
  },
  {
   "cell_type": "code",
   "execution_count": 108,
   "id": "ca1e356f",
   "metadata": {},
   "outputs": [
    {
     "data": {
      "text/plain": [
       "61253.595055227575"
      ]
     },
     "execution_count": 108,
     "metadata": {},
     "output_type": "execute_result"
    }
   ],
   "source": [
    "X_test = prepare_X(pd.DataFrame([ad]))[0]\n",
    "y_pred = w_0 + X_test.dot(w)\n",
    "suggestion = np.expm1(y_pred)\n",
    "suggestion"
   ]
  },
  {
   "cell_type": "code",
   "execution_count": 109,
   "id": "d5889da0",
   "metadata": {},
   "outputs": [
    {
     "data": {
      "text/plain": [
       "60000.000000000015"
      ]
     },
     "execution_count": 109,
     "metadata": {},
     "output_type": "execute_result"
    }
   ],
   "source": [
    "j = 2\n",
    "actual_price = y_test[j]\n",
    "actual_price = np.expm1(actual_price)\n",
    "actual_price"
   ]
  },
  {
   "cell_type": "code",
   "execution_count": 110,
   "id": "0e3a6282",
   "metadata": {},
   "outputs": [
    {
     "name": "stdout",
     "output_type": "stream",
     "text": [
      "actual price: 98933.00000000006\n",
      "predicted price: 111365.18096040466\n",
      "ad:\n",
      "{'тип_предложения': 'агент', 'комнаты': 3, 'адрес': 'бишкек,_магистраль,_байтик-баатыра/а._токомбаева', 'серия': 'элитка', 'площадь': 104.14, 'отопление': nan, 'состояние': 'под_самоотделку_(псо)', 'возможность_рассрочки': nan, 'возможность_ипотеки': nan, 'возможность_обмена': nan, 'интернет': nan, 'газ': nan, 'балкон': nan, 'мебель': nan, 'пол': nan, 'высота_потолков': 3.0, 'телефон': nan, 'санузел': nan, 'входная_дверь': nan, 'парковка': nan, 'lat': 42.8192, 'lon': 74.6031, 'город': 'бишкек', 'номер_этажа': 13, 'общий_этаж': 14, 'домофон': 0, 'видеонаблюдение': 0, 'охрана': 0, 'решетки_на_окнах': 0, 'кодовый_замок': 0, 'сигнализация': 0, 'видеодомофон': 0, 'консьерж': 0, 'договор_купли-продажи': 0, 'договор_дарения': 0, 'технический_паспорт': 0, 'акт_ввода_в_эксплуатацию': 0, 'красная_книга': 0, 'зеленая_книга': 0, 'материал': 'монолитный', 'год': 2022.0}\n",
      "\n",
      "orig price: 98933\n"
     ]
    }
   ],
   "source": [
    "actual_price = y_test[3]\n",
    "actual_price = np.expm1(actual_price)\n",
    "print(\"actual price:\", actual_price)\n",
    "\n",
    "ad = df_test.iloc[3].to_dict()\n",
    "X_test = prepare_X(pd.DataFrame([ad]))[0]\n",
    "y_pred = w_0 + X_test.dot(w)\n",
    "suggestion = np.expm1(y_pred) # undoing logarithm\n",
    "print(\"predicted price:\", suggestion)\n",
    "\n",
    "print(\"ad:\")\n",
    "print(ad)\n",
    "\n",
    "print(\"\\norig price:\",y_test_orig[3])"
   ]
  },
  {
   "cell_type": "code",
   "execution_count": 111,
   "id": "fa9744df",
   "metadata": {},
   "outputs": [
    {
     "name": "stdout",
     "output_type": "stream",
     "text": [
      "actual price: 255000.0000000001\n",
      "predicted price: 290474.77462998556\n",
      "ad:\n",
      "{'тип_предложения': 'агент', 'комнаты': 4, 'адрес': 'бишкек,_советская_-_скрябина,_медерова,_50', 'серия': 'индивид._планировка', 'площадь': 206.1, 'отопление': nan, 'состояние': nan, 'возможность_рассрочки': nan, 'возможность_ипотеки': 1.0, 'возможность_обмена': nan, 'интернет': nan, 'газ': nan, 'балкон': nan, 'мебель': nan, 'пол': nan, 'высота_потолков': 3.0, 'телефон': nan, 'санузел': nan, 'входная_дверь': nan, 'парковка': nan, 'lat': 42.8516, 'lon': 74.6124, 'город': 'бишкек', 'номер_этажа': 10, 'общий_этаж': 10, 'домофон': 0, 'видеонаблюдение': 0, 'охрана': 0, 'решетки_на_окнах': 0, 'кодовый_замок': 0, 'сигнализация': 0, 'видеодомофон': 0, 'консьерж': 0, 'договор_купли-продажи': 0, 'договор_дарения': 0, 'технический_паспорт': 0, 'акт_ввода_в_эксплуатацию': 0, 'красная_книга': 0, 'зеленая_книга': 0, 'материал': 'монолитный', 'год': 2019.0}\n",
      "\n",
      "orig price: 255000\n"
     ]
    }
   ],
   "source": [
    "actual_price = y_test[4]\n",
    "actual_price = np.expm1(actual_price)\n",
    "print(\"actual price:\", actual_price)\n",
    "\n",
    "ad = df_test.iloc[4].to_dict()\n",
    "X_test = prepare_X(pd.DataFrame([ad]))[0]\n",
    "y_pred = w_0 + X_test.dot(w)\n",
    "suggestion = np.expm1(y_pred) # undoing logarithm\n",
    "print(\"predicted price:\", suggestion)\n",
    "\n",
    "print(\"ad:\")\n",
    "print(ad)\n",
    "\n",
    "print(\"\\norig price:\",y_test_orig[4])"
   ]
  },
  {
   "cell_type": "code",
   "execution_count": 112,
   "id": "6c777262",
   "metadata": {},
   "outputs": [
    {
     "name": "stdout",
     "output_type": "stream",
     "text": [
      "actual price: 67000.0\n",
      "predicted price: 79948.7670528992\n",
      "ad:\n",
      "{'тип_предложения': 'агент', 'комнаты': 2, 'адрес': 'бишкек,_верхний_джал_м-н,', 'серия': 'элитка', 'площадь': 55.0, 'отопление': nan, 'состояние': 'евроремонт', 'возможность_рассрочки': nan, 'возможность_ипотеки': nan, 'возможность_обмена': nan, 'интернет': nan, 'газ': nan, 'балкон': nan, 'мебель': nan, 'пол': nan, 'высота_потолков': nan, 'телефон': nan, 'санузел': nan, 'входная_дверь': nan, 'парковка': nan, 'lat': 42.836, 'lon': 74.567, 'город': 'бишкек', 'номер_этажа': 7, 'общий_этаж': 9, 'домофон': 0, 'видеонаблюдение': 0, 'охрана': 0, 'решетки_на_окнах': 0, 'кодовый_замок': 0, 'сигнализация': 0, 'видеодомофон': 0, 'консьерж': 0, 'договор_купли-продажи': 0, 'договор_дарения': 0, 'технический_паспорт': 0, 'акт_ввода_в_эксплуатацию': 0, 'красная_книга': 0, 'зеленая_книга': 0, 'материал': 'монолитный', 'год': 2023.0}\n",
      "\n",
      "orig price: 67000\n"
     ]
    }
   ],
   "source": [
    "actual_price = y_test[5]\n",
    "actual_price = np.expm1(actual_price)\n",
    "print(\"actual price:\", actual_price)\n",
    "\n",
    "ad = df_test.iloc[5].to_dict()\n",
    "X_test = prepare_X(pd.DataFrame([ad]))[0]\n",
    "y_pred = w_0 + X_test.dot(w)\n",
    "suggestion = np.expm1(y_pred) # undoing logarithm\n",
    "print(\"predicted price:\", suggestion)\n",
    "\n",
    "print(\"ad:\")\n",
    "print(ad)\n",
    "\n",
    "print(\"\\norig price:\",y_test_orig[5])"
   ]
  },
  {
   "cell_type": "code",
   "execution_count": 113,
   "id": "f901634d",
   "metadata": {},
   "outputs": [
    {
     "name": "stdout",
     "output_type": "stream",
     "text": [
      "actual price: 155000.00000000012\n",
      "predicted price: 133117.34290513804\n",
      "ad:\n",
      "{'тип_предложения': 'агент', 'комнаты': 3, 'адрес': 'бишкек,_магистраль,_пр._ч._айтматова_82/2', 'серия': 'элитка', 'площадь': 87.0, 'отопление': 1.0, 'состояние': 'евроремонт', 'возможность_рассрочки': nan, 'возможность_ипотеки': nan, 'возможность_обмена': nan, 'интернет': nan, 'газ': 1.0, 'балкон': 1.0, 'мебель': 'полностью_меблирована', 'пол': 'ламинат', 'высота_потолков': 3.2, 'телефон': nan, 'санузел': 'раздельный', 'входная_дверь': 'бронированная', 'парковка': nan, 'lat': 42.8277, 'lon': 74.586, 'город': 'бишкек', 'номер_этажа': 4, 'общий_этаж': 14, 'домофон': 1, 'видеонаблюдение': 1, 'охрана': 1, 'решетки_на_окнах': 0, 'кодовый_замок': 1, 'сигнализация': 1, 'видеодомофон': 1, 'консьерж': 0, 'договор_купли-продажи': 0, 'договор_дарения': 0, 'технический_паспорт': 0, 'акт_ввода_в_эксплуатацию': 0, 'красная_книга': 0, 'зеленая_книга': 0, 'материал': 'монолитный', 'год': 2021.0}\n",
      "\n",
      "orig price: 155000\n"
     ]
    }
   ],
   "source": [
    "nn = 13\n",
    "actual_price = y_test[nn]\n",
    "actual_price = np.expm1(actual_price)\n",
    "print(\"actual price:\", actual_price)\n",
    "\n",
    "ad = df_test.iloc[nn].to_dict()\n",
    "X_test = prepare_X(pd.DataFrame([ad]))[0]\n",
    "y_pred = w_0 + X_test.dot(w)\n",
    "suggestion = np.expm1(y_pred) # undoing logarithm\n",
    "print(\"predicted price:\", suggestion)\n",
    "\n",
    "print(\"ad:\")\n",
    "print(ad)\n",
    "\n",
    "print(\"\\norig price:\",y_test_orig[nn])"
   ]
  },
  {
   "cell_type": "code",
   "execution_count": 114,
   "id": "415dfff8",
   "metadata": {},
   "outputs": [
    {
     "name": "stdout",
     "output_type": "stream",
     "text": [
      "actual price: 65499.99999999995\n",
      "predicted price: 55171.4552853804\n",
      "ad:\n",
      "{'тип_предложения': 'собственник', 'комнаты': 2, 'адрес': 'бишкек,_аламедин-1_м-н_70', 'серия': '105_серия', 'площадь': 52.0, 'отопление': 1.0, 'состояние': 'среднее', 'возможность_рассрочки': 0.0, 'возможность_ипотеки': 0.0, 'возможность_обмена': 'обмен_не_предлагать', 'интернет': 'проводной', 'газ': 1.0, 'балкон': 1.0, 'мебель': nan, 'пол': 'линолеум', 'высота_потолков': nan, 'телефон': nan, 'санузел': 'раздельный', 'входная_дверь': 'бронированная', 'парковка': nan, 'lat': 42.8791, 'lon': 74.6891, 'город': 'бишкек', 'номер_этажа': 1, 'общий_этаж': 5, 'домофон': 0, 'видеонаблюдение': 0, 'охрана': 0, 'решетки_на_окнах': 0, 'кодовый_замок': 0, 'сигнализация': 0, 'видеодомофон': 0, 'консьерж': 0, 'договор_купли-продажи': 0, 'договор_дарения': 0, 'технический_паспорт': 0, 'акт_ввода_в_эксплуатацию': 0, 'красная_книга': 0, 'зеленая_книга': 0, 'материал': 'панельный', 'год': nan}\n",
      "\n",
      "orig price: 65500\n"
     ]
    }
   ],
   "source": [
    "nn = 574\n",
    "actual_price = y_test[nn]\n",
    "actual_price = np.expm1(actual_price)\n",
    "print(\"actual price:\", actual_price)\n",
    "\n",
    "ad = df_test.iloc[nn].to_dict()\n",
    "X_test = prepare_X(pd.DataFrame([ad]))[0]\n",
    "y_pred = w_0 + X_test.dot(w)\n",
    "suggestion = np.expm1(y_pred) # undoing logarithm\n",
    "print(\"predicted price:\", suggestion)\n",
    "\n",
    "print(\"ad:\")\n",
    "print(ad)\n",
    "\n",
    "print(\"\\norig price:\",y_test_orig[nn])"
   ]
  },
  {
   "cell_type": "code",
   "execution_count": 115,
   "id": "7e163a34",
   "metadata": {},
   "outputs": [
    {
     "name": "stdout",
     "output_type": "stream",
     "text": [
      "actual price: 95000.00000000001\n",
      "predicted price: 98368.87762605776\n",
      "ad:\n",
      "{'тип_предложения': 'агент', 'комнаты': 4, 'адрес': 'бишкек,_моссовет', 'серия': 'индивид._планировка', 'площадь': 86.0, 'отопление': 1.0, 'состояние': 'среднее', 'возможность_рассрочки': nan, 'возможность_ипотеки': nan, 'возможность_обмена': nan, 'интернет': nan, 'газ': 1.0, 'балкон': 1.0, 'мебель': 'частично_меблирована', 'пол': nan, 'высота_потолков': nan, 'телефон': nan, 'санузел': 'раздельный', 'входная_дверь': 'деревянная', 'парковка': nan, 'lat': 42.8678, 'lon': 74.6128, 'город': 'бишкек', 'номер_этажа': 4, 'общий_этаж': 5, 'домофон': 1, 'видеонаблюдение': 1, 'охрана': 0, 'решетки_на_окнах': 0, 'кодовый_замок': 0, 'сигнализация': 0, 'видеодомофон': 0, 'консьерж': 0, 'договор_купли-продажи': 0, 'договор_дарения': 0, 'технический_паспорт': 0, 'акт_ввода_в_эксплуатацию': 0, 'красная_книга': 0, 'зеленая_книга': 0, 'материал': 'кирпичный', 'год': 1981.0}\n",
      "\n",
      "orig price: 95000\n"
     ]
    }
   ],
   "source": [
    "nn = 348\n",
    "actual_price = y_test[nn]\n",
    "actual_price = np.expm1(actual_price)\n",
    "print(\"actual price:\", actual_price)\n",
    "\n",
    "ad = df_test.iloc[nn].to_dict()\n",
    "X_test = prepare_X(pd.DataFrame([ad]))[0]\n",
    "y_pred = w_0 + X_test.dot(w)\n",
    "suggestion = np.expm1(y_pred) # undoing logarithm\n",
    "print(\"predicted price:\", suggestion)\n",
    "\n",
    "print(\"ad:\")\n",
    "print(ad)\n",
    "\n",
    "print(\"\\norig price:\",y_test_orig[nn])"
   ]
  },
  {
   "cell_type": "code",
   "execution_count": 116,
   "id": "1181a15d",
   "metadata": {},
   "outputs": [
    {
     "name": "stdout",
     "output_type": "stream",
     "text": [
      "actual price: 74099.99999999996\n",
      "predicted price: 83927.37913530515\n",
      "ad:\n",
      "{'тип_предложения': 'агент', 'комнаты': 2, 'адрес': 'бишкек,_старый_аэропорт,_ажыбек_баатыра,_3', 'серия': 'индивид._планировка', 'площадь': 68.0, 'отопление': nan, 'состояние': nan, 'возможность_рассрочки': nan, 'возможность_ипотеки': 1.0, 'возможность_обмена': nan, 'интернет': nan, 'газ': nan, 'балкон': nan, 'мебель': nan, 'пол': nan, 'высота_потолков': 3.1, 'телефон': nan, 'санузел': nan, 'входная_дверь': nan, 'парковка': nan, 'lat': 42.8397, 'lon': 74.5812, 'город': 'бишкек', 'номер_этажа': 9, 'общий_этаж': 10, 'домофон': 0, 'видеонаблюдение': 0, 'охрана': 0, 'решетки_на_окнах': 0, 'кодовый_замок': 0, 'сигнализация': 0, 'видеодомофон': 0, 'консьерж': 0, 'договор_купли-продажи': 0, 'договор_дарения': 0, 'технический_паспорт': 0, 'акт_ввода_в_эксплуатацию': 0, 'красная_книга': 0, 'зеленая_книга': 0, 'материал': 'кирпичный', 'год': 2018.0}\n",
      "\n",
      "orig price: 74100\n"
     ]
    }
   ],
   "source": [
    "nn = 522\n",
    "actual_price = y_test[nn]\n",
    "actual_price = np.expm1(actual_price)\n",
    "print(\"actual price:\", actual_price)\n",
    "\n",
    "ad = df_test.iloc[nn].to_dict()\n",
    "X_test = prepare_X(pd.DataFrame([ad]))[0]\n",
    "y_pred = w_0 + X_test.dot(w)\n",
    "suggestion = np.expm1(y_pred) # undoing logarithm\n",
    "print(\"predicted price:\", suggestion)\n",
    "\n",
    "print(\"ad:\")\n",
    "print(ad)\n",
    "\n",
    "print(\"\\norig price:\",y_test_orig[nn])"
   ]
  },
  {
   "cell_type": "code",
   "execution_count": 117,
   "id": "5b1ad04c",
   "metadata": {},
   "outputs": [
    {
     "name": "stdout",
     "output_type": "stream",
     "text": [
      "actual price: 83000.0\n",
      "predicted price: 76769.0656774465\n",
      "ad:\n",
      "{'тип_предложения': 'агент', 'комнаты': 2, 'адрес': 'бишкек,_магистраль,_ч._айтматова/масалиева', 'серия': '108_серия', 'площадь': 62.0, 'отопление': 1.0, 'состояние': 'евроремонт', 'возможность_рассрочки': nan, 'возможность_ипотеки': nan, 'возможность_обмена': nan, 'интернет': nan, 'газ': nan, 'балкон': nan, 'мебель': nan, 'пол': nan, 'высота_потолков': 2.8, 'телефон': nan, 'санузел': nan, 'входная_дверь': nan, 'парковка': nan, 'lat': 42.8249, 'lon': 74.591, 'город': 'бишкек', 'номер_этажа': 3, 'общий_этаж': 9, 'домофон': 0, 'видеонаблюдение': 0, 'охрана': 0, 'решетки_на_окнах': 0, 'кодовый_замок': 0, 'сигнализация': 0, 'видеодомофон': 0, 'консьерж': 0, 'договор_купли-продажи': 0, 'договор_дарения': 0, 'технический_паспорт': 0, 'акт_ввода_в_эксплуатацию': 0, 'красная_книга': 0, 'зеленая_книга': 0, 'материал': 'монолитный', 'год': 2022.0}\n",
      "\n",
      "orig price: 83000\n"
     ]
    }
   ],
   "source": [
    "nn = 600\n",
    "actual_price = y_test[nn]\n",
    "actual_price = np.expm1(actual_price)\n",
    "print(\"actual price:\", actual_price)\n",
    "\n",
    "ad = df_test.iloc[nn].to_dict()\n",
    "X_test = prepare_X(pd.DataFrame([ad]))[0]\n",
    "y_pred = w_0 + X_test.dot(w)\n",
    "suggestion = np.expm1(y_pred) # undoing logarithm\n",
    "print(\"predicted price:\", suggestion)\n",
    "\n",
    "print(\"ad:\")\n",
    "print(ad)\n",
    "\n",
    "print(\"\\norig price:\",y_test_orig[nn])"
   ]
  },
  {
   "cell_type": "code",
   "execution_count": 125,
   "id": "214c55e5",
   "metadata": {},
   "outputs": [
    {
     "name": "stdout",
     "output_type": "stream",
     "text": [
      "actual price: 112000.00000000004\n",
      "predicted price: 155984.07363209757\n",
      "ad:\n",
      "{'тип_предложения': 'агент', 'комнаты': 3, 'адрес': 'бишкек,_старый_аэропорт,_джунусалиева,_184', 'серия': 'индивид._планировка', 'площадь': 120.5, 'отопление': nan, 'состояние': nan, 'возможность_рассрочки': nan, 'возможность_ипотеки': 1.0, 'возможность_обмена': nan, 'интернет': nan, 'газ': nan, 'балкон': nan, 'мебель': nan, 'пол': nan, 'высота_потолков': 3.0, 'телефон': nan, 'санузел': nan, 'входная_дверь': nan, 'парковка': nan, 'lat': 42.8397, 'lon': 74.5803, 'город': 'бишкек', 'номер_этажа': 14, 'общий_этаж': 16, 'домофон': 0, 'видеонаблюдение': 0, 'охрана': 0, 'решетки_на_окнах': 0, 'кодовый_замок': 0, 'сигнализация': 0, 'видеодомофон': 0, 'консьерж': 0, 'договор_купли-продажи': 0, 'договор_дарения': 0, 'технический_паспорт': 0, 'акт_ввода_в_эксплуатацию': 0, 'красная_книга': 0, 'зеленая_книга': 0, 'материал': 'монолитный', 'год': 2024.0}\n",
      "\n",
      "orig price: 112000\n"
     ]
    }
   ],
   "source": [
    "nn = 250\n",
    "actual_price = y_test[nn]\n",
    "actual_price = np.expm1(actual_price)\n",
    "print(\"actual price:\", actual_price)\n",
    "\n",
    "ad = df_test.iloc[nn].to_dict()\n",
    "X_test = prepare_X(pd.DataFrame([ad]))[0]\n",
    "y_pred = w_0 + X_test.dot(w)\n",
    "suggestion = np.expm1(y_pred) # undoing logarithm\n",
    "print(\"predicted price:\", suggestion)\n",
    "\n",
    "print(\"ad:\")\n",
    "print(ad)\n",
    "\n",
    "print(\"\\norig price:\",y_test_orig[nn])"
   ]
  }
 ],
 "metadata": {
  "kernelspec": {
   "display_name": "Python 3 (ipykernel)",
   "language": "python",
   "name": "python3"
  },
  "language_info": {
   "codemirror_mode": {
    "name": "ipython",
    "version": 3
   },
   "file_extension": ".py",
   "mimetype": "text/x-python",
   "name": "python",
   "nbconvert_exporter": "python",
   "pygments_lexer": "ipython3",
   "version": "3.11.5"
  }
 },
 "nbformat": 4,
 "nbformat_minor": 5
}
